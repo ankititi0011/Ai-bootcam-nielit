{
  "nbformat": 4,
  "nbformat_minor": 0,
  "metadata": {
    "colab": {
      "provenance": []
    },
    "kernelspec": {
      "name": "python3",
      "display_name": "Python 3"
    },
    "language_info": {
      "name": "python"
    }
  },
  "cells": [
    {
      "cell_type": "code",
      "execution_count": 1,
      "metadata": {
        "colab": {
          "base_uri": "https://localhost:8080/"
        },
        "id": "9vHRJTUde0zc",
        "outputId": "892f8df4-e603-4f7e-956f-0061f8d0779c"
      },
      "outputs": [
        {
          "output_type": "stream",
          "name": "stdout",
          "text": [
            "Requirement already satisfied: pandas in /usr/local/lib/python3.11/dist-packages (2.2.2)\n",
            "Requirement already satisfied: numpy>=1.23.2 in /usr/local/lib/python3.11/dist-packages (from pandas) (2.0.2)\n",
            "Requirement already satisfied: python-dateutil>=2.8.2 in /usr/local/lib/python3.11/dist-packages (from pandas) (2.9.0.post0)\n",
            "Requirement already satisfied: pytz>=2020.1 in /usr/local/lib/python3.11/dist-packages (from pandas) (2025.2)\n",
            "Requirement already satisfied: tzdata>=2022.7 in /usr/local/lib/python3.11/dist-packages (from pandas) (2025.2)\n",
            "Requirement already satisfied: six>=1.5 in /usr/local/lib/python3.11/dist-packages (from python-dateutil>=2.8.2->pandas) (1.17.0)\n"
          ]
        }
      ],
      "source": [
        " !pip install pandas"
      ]
    },
    {
      "cell_type": "code",
      "source": [
        "import pandas as pd\n",
        "df = pd.read_excel('/content/New Microsoft Excel Worksheet.xlsx')\n",
        "print(df.head())\n",
        "print(df.info())\n",
        "print(df.describe())"
      ],
      "metadata": {
        "colab": {
          "base_uri": "https://localhost:8080/"
        },
        "id": "HTBjzD9riCKw",
        "outputId": "3b9e566f-6525-4956-d87e-e5901b05dd3f"
      },
      "execution_count": 4,
      "outputs": [
        {
          "output_type": "stream",
          "name": "stdout",
          "text": [
            "   Lattitude  Longitude  living_area_renov  lot_area_renov  \\\n",
            "0    52.8645   -114.557               2880            5400   \n",
            "1    52.8878   -114.470               2470            4000   \n",
            "2    52.8852   -114.468               2940            6600   \n",
            "3    52.9532   -114.321               3350           42847   \n",
            "4    52.9047   -114.485               2060            4500   \n",
            "\n",
            "   Number of schools nearby  Distance from the airport    Price  \n",
            "0                         2                         58  2380000  \n",
            "1                         2                         51  1400000  \n",
            "2                         1                         53  1200000  \n",
            "3                         3                         76   838000  \n",
            "4                         1                         51   805000  \n",
            "<class 'pandas.core.frame.DataFrame'>\n",
            "RangeIndex: 14620 entries, 0 to 14619\n",
            "Data columns (total 7 columns):\n",
            " #   Column                     Non-Null Count  Dtype  \n",
            "---  ------                     --------------  -----  \n",
            " 0   Lattitude                  14620 non-null  float64\n",
            " 1   Longitude                  14620 non-null  float64\n",
            " 2   living_area_renov          14620 non-null  int64  \n",
            " 3   lot_area_renov             14620 non-null  int64  \n",
            " 4   Number of schools nearby   14620 non-null  int64  \n",
            " 5   Distance from the airport  14620 non-null  int64  \n",
            " 6   Price                      14620 non-null  int64  \n",
            "dtypes: float64(2), int64(5)\n",
            "memory usage: 799.7 KB\n",
            "None\n",
            "          Lattitude     Longitude  living_area_renov  lot_area_renov  \\\n",
            "count  14620.000000  14620.000000       14620.000000    14620.000000   \n",
            "mean      52.792848   -114.404007        1996.702257    12753.500068   \n",
            "std        0.137522      0.141326         691.093366    26058.414467   \n",
            "min       52.385900   -114.709000         460.000000      651.000000   \n",
            "25%       52.707600   -114.519000        1490.000000     5097.750000   \n",
            "50%       52.806400   -114.421000        1850.000000     7620.000000   \n",
            "75%       52.908900   -114.315000        2380.000000    10125.000000   \n",
            "max       53.007600   -113.505000        6110.000000   560617.000000   \n",
            "\n",
            "       Number of schools nearby  Distance from the airport         Price  \n",
            "count              14620.000000               14620.000000  1.462000e+04  \n",
            "mean                   2.012244                  64.950958  5.389322e+05  \n",
            "std                    0.817284                   8.936008  3.675324e+05  \n",
            "min                    1.000000                  50.000000  7.800000e+04  \n",
            "25%                    1.000000                  57.000000  3.200000e+05  \n",
            "50%                    2.000000                  65.000000  4.500000e+05  \n",
            "75%                    3.000000                  73.000000  6.450000e+05  \n",
            "max                    3.000000                  80.000000  7.700000e+06  \n"
          ]
        }
      ]
    }
  ]
}