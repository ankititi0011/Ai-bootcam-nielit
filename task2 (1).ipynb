{
  "nbformat": 4,
  "nbformat_minor": 0,
  "metadata": {
    "colab": {
      "provenance": []
    },
    "kernelspec": {
      "name": "python3",
      "display_name": "Python 3"
    },
    "language_info": {
      "name": "python"
    }
  },
  "cells": [
    {
      "cell_type": "code",
      "execution_count": 2,
      "metadata": {
        "colab": {
          "base_uri": "https://localhost:8080/"
        },
        "id": "D0s730LblHPW",
        "outputId": "6e2673dd-f680-43b8-e16b-8e93e860926a"
      },
      "outputs": [
        {
          "output_type": "stream",
          "name": "stdout",
          "text": [
            "valeu of sum= 132\n"
          ]
        }
      ],
      "source": [
        "a=46; b=86; c=a+b; print(\"valeu of sum=\",c)"
      ]
    }
  ]
}