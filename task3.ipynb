{
  "nbformat": 4,
  "nbformat_minor": 0,
  "metadata": {
    "colab": {
      "provenance": []
    },
    "kernelspec": {
      "name": "python3",
      "display_name": "Python 3"
    },
    "language_info": {
      "name": "python"
    }
  },
  "cells": [
    {
      "cell_type": "code",
      "execution_count": 2,
      "metadata": {
        "colab": {
          "base_uri": "https://localhost:8080/"
        },
        "id": "l0C5r3JQd8Lq",
        "outputId": "285eb86a-c27a-4114-8a95-7cb92686d68a"
      },
      "outputs": [
        {
          "output_type": "stream",
          "name": "stdout",
          "text": [
            "ENTER FIRST NUMBER12\n",
            "ENTER SECOND NUMBER3\n",
            "36\n"
          ]
        }
      ],
      "source": [
        "a= int(input(\"ENTER FIRST NUMBER\")) #take input of first number\n",
        "b= int(input(\"ENTER SECOND NUMBER\")) #take input of second number\n",
        "c=a*b #multiply both numbers\n",
        "print(c)"
      ]
    }
  ]
}