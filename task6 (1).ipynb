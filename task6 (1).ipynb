{
  "nbformat": 4,
  "nbformat_minor": 0,
  "metadata": {
    "colab": {
      "provenance": []
    },
    "kernelspec": {
      "name": "python3",
      "display_name": "Python 3"
    },
    "language_info": {
      "name": "python"
    }
  },
  "cells": [
    {
      "cell_type": "code",
      "execution_count": 1,
      "metadata": {
        "colab": {
          "base_uri": "https://localhost:8080/"
        },
        "id": "AwnsoAShpeLr",
        "outputId": "72a19ebb-65f4-4407-e467-c8572af3d054"
      },
      "outputs": [
        {
          "output_type": "stream",
          "name": "stdout",
          "text": [
            "       Lattitude  Longitude  living_area_renov  lot_area_renov  \\\n",
            "0        52.8645   -114.557               2880            5400   \n",
            "1        52.8878   -114.470               2470            4000   \n",
            "2        52.8852   -114.468               2940            6600   \n",
            "3        52.9532   -114.321               3350           42847   \n",
            "4        52.9047   -114.485               2060            4500   \n",
            "...          ...        ...                ...             ...   \n",
            "14615    52.6191   -114.472               2250           17286   \n",
            "14616    52.5075   -114.393               1540            7480   \n",
            "14617    52.7289   -114.507               1130            6120   \n",
            "14618    52.7157   -114.411               1420            6631   \n",
            "14619    52.5338   -114.552                900            3480   \n",
            "\n",
            "       Number of schools nearby  Distance from the airport    Price  \n",
            "0                             2                         58  2380000  \n",
            "1                             2                         51  1400000  \n",
            "2                             1                         53  1200000  \n",
            "3                             3                         76   838000  \n",
            "4                             1                         51   805000  \n",
            "...                         ...                        ...      ...  \n",
            "14615                         3                         76   221700  \n",
            "14616                         3                         59   219200  \n",
            "14617                         2                         64   209000  \n",
            "14618                         3                         54   205000  \n",
            "14619                         2                         55   146000  \n",
            "\n",
            "[14620 rows x 7 columns]\n"
          ]
        }
      ],
      "source": [
        "import pandas as pd\n",
        "df_excel = pd.read_excel('/content/New Microsoft Excel Worksheet.xlsx')\n",
        "print(df_excel)"
      ]
    }
  ]
}